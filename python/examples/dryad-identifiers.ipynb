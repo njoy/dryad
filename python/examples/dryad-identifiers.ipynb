{
 "cells": [
  {
   "cell_type": "markdown",
   "id": "270e1053",
   "metadata": {},
   "source": [
    "# Identifiers in dryad\n",
    "\n",
    "The ```dryad.id``` subpackage provides a number of identifiers that are used throughout the objects provided by dryad. This includes the ```ElectronSubshellID``` to identify specific electron subshells of an atom and the ```ParticleID``` to uniquely identify a particle, whether that particle is a fundamental particle (e.g. a photon or neutron), a nuclide (such as U235) or an ion (such as H{1s1/2}).\n",
    "\n",
    "## ElectronSubshellID\n",
    "\n",
    "An electron shell is the set of allowed states that share the same principal quantum number *n* that electrons may occupy. A subshell is the set of states defined by the azimuthal quantum number l within an electron shell. The value of *l* is in the range from 0 to *n* − 1 and these values are often denoted using letters (the s, p, d, and f labels).\n",
    "\n",
    "The ```ElectronSubshellID``` allows a user to identify individual subshells. This identifier is used in atomic relaxation data (which describes how X-rays and Auger electrons can be emitted by an ionised atom) and to identify ionised atoms. To identify these subshell, we often use names related to X-rays (for example the K, L1, L2 or L3 subshell), a quantum representation (for example the 1s1/2, 2s1/2, 2p1/2 or 2p3/2 subshell) or even an MT number in ENDF (for example the 534, 535, 536 or 537 subshell). An overview of the currently supported list of subshells with their name, quantum representation and ENDF number is given in the following table.\n",
    "\n",
    "| Name   | Quantum | ENDF || Name | Quantum | ENDF || Name | Quantum | ENDF || Name | Quantum | ENDF |\n",
    "| :----: | :----: | :----: | :-: | :----: | :----: | :----: | :-: | :----: | :----: | :----: | :-: | :----: | :----: | :----: |\n",
    "| K   | 1s1/2  | 534 || N4  | 4d3/2  | 546 || O9  | 5g9/2  | 558 || Q1  | 7s1/2  | 570 |\n",
    "| L1  | 2s1/2  | 535 || N5  | 4d5/2  | 547 || P1  | 6s1/2  | 559 || Q2  | 7p1/2  | 571 |\n",
    "| L2  | 2p1/2  | 536 || N6  | 4f5/2  | 548 || P2  | 6p1/2  | 560 || Q3  | 7p3/2  | 572 |\n",
    "| L3  | 2p3/2  | 537 || N7  | 4f7/2  | 549 || P3  | 6p3/2  | 561 || Q4  | 7d3/2  | 573 |\n",
    "| M1  | 3s1/2  | 538 || O1  | 5s1/2  | 550 || P4  | 6d3/2  | 562 || Q5  | 7d5/2  | 574 |\n",
    "| M2  | 3p1/2  | 539 || O2  | 5p1/2  | 551 || P5  | 6d5/2  | 563 || Q6  | 7f5/2  | 575 |\n",
    "| M3  | 3p3/2  | 540 || O3  | 5p3/2  | 552 || P6  | 6f5/2  | 564 || Q7  | 7f7/2  | 576 |\n",
    "| M4  | 3d3/2  | 541 || O4  | 5d3/2  | 553 || P7  | 6f7/2  | 565 || Q8  | 7g7/2  | 577 |\n",
    "| M5  | 3d5/2  | 542 || O5  | 5d5/2  | 554 || P8  | 6g7/2  | 566 || Q9  | 7g9/2  | 578 |\n",
    "| N1  | 4s1/2  | 543 || O6  | 5f5/2  | 555 || P9  | 6g9/2  | 567 || Q10 | 7h9/2  | 579 |\n",
    "| N2  | 4p1/2  | 544 || O7  | 5f7/2  | 556 || P10 | 6h9/2  | 568 || Q11 | 7h11/2 | 580 |\n",
    "| N3  | 4p3/2  | 545 || O8  | 5g7/2  | 557 || P11 | 6h11/2 | 569 ||     |        |     |\n",
    "\n",
    "Note: the current ENDF manual only defines subshell MT numbers from 534 to 572. For practical purposes, we have extended this in dryad to 580.\n",
    "\n",
    "Instances of an ```ElectronSubshellID``` can be created using either a string (using the subshell name or quantum representation) or a number (using the ENDF MT number). In the following example all instances of ```ElectronSubshellID``` therefore point to the K subshell."
   ]
  },
  {
   "cell_type": "code",
   "execution_count": 1,
   "id": "cffa2a86",
   "metadata": {},
   "outputs": [
    {
     "name": "stdout",
     "output_type": "stream",
     "text": [
      "shell symbol: 1s1/2\n",
      "shell symbol: 1s1/2\n",
      "shell symbol: 1s1/2\n"
     ]
    }
   ],
   "source": [
    "import dryad\n",
    "\n",
    "k_shell1 = dryad.id.ElectronSubshellID( 'K' )\n",
    "k_shell2 = dryad.id.ElectronSubshellID( '1s1/2' )\n",
    "k_shell3 = dryad.id.ElectronSubshellID( 534 )\n",
    "\n",
    "print( 'shell symbol: {}'.format( k_shell1 ) )\n",
    "print( 'shell symbol: {}'.format( k_shell2 ) )\n",
    "print( 'shell symbol: {}'.format( k_shell3 ) )"
   ]
  },
  {
   "cell_type": "markdown",
   "id": "393cbe13",
   "metadata": {},
   "source": [
    "Since the MT numbers are basically arbitrarily defined, the ```ElectronSubshellID``` also provides a set of predefined static constants that represent these MT numbers using the subshell name for user convenience. For example:"
   ]
  },
  {
   "cell_type": "code",
   "execution_count": 2,
   "id": "f484a6f8",
   "metadata": {},
   "outputs": [],
   "source": [
    "k_shell = dryad.id.ElectronSubshellID( 534 )\n",
    "k_shell = dryad.id.ElectronSubshellID( dryad.id.ElectronSubshellID.K )\n",
    "\n",
    "l2_shell = dryad.id.ElectronSubshellID( 536 )\n",
    "l2_shell = dryad.id.ElectronSubshellID( dryad.id.ElectronSubshellID.L2 )"
   ]
  },
  {
   "cell_type": "markdown",
   "id": "a8a102b4",
   "metadata": {},
   "source": [
    "A ```ElectronSubshellID``` instance provides the following information:\n",
    "- the name the subshell (```name```)\n",
    "- the symbol or quantum representation of the subshell (```symbol```)\n",
    "- the subshell number (```number```)\n",
    "\n",
    "The ```ElectronSubshellID``` also defines all possible comparison operators (```==```, ```!=```, ```<```, ```<=```, ```>```, ```>=```) using the subshell number for the logical order of the shells. It also provides a hash function so it can be used as a key in a Python dictionary."
   ]
  },
  {
   "cell_type": "code",
   "execution_count": 3,
   "id": "98e9cfef",
   "metadata": {},
   "outputs": [
    {
     "name": "stdout",
     "output_type": "stream",
     "text": [
      "False\n",
      "True\n",
      "True\n",
      "True\n",
      "False\n",
      "False\n"
     ]
    }
   ],
   "source": [
    "k_shell = dryad.id.ElectronSubshellID( dryad.id.ElectronSubshellID.K )\n",
    "l2_shell = dryad.id.ElectronSubshellID( dryad.id.ElectronSubshellID.L2 )\n",
    "\n",
    "print( k_shell == l2_shell )\n",
    "print( k_shell != l2_shell )\n",
    "print( k_shell < l2_shell )\n",
    "print( k_shell <= l2_shell )\n",
    "print( k_shell > l2_shell )\n",
    "print( k_shell >= l2_shell )"
   ]
  },
  {
   "cell_type": "markdown",
   "id": "0485d9b0",
   "metadata": {},
   "source": [
    "## ParticleID\n",
    "\n",
    "A ```ParticleID``` is used to represent particles for data is stored in dryad objects. It is used to identify both the projectile and target in a ```ProjectileTarget``` and to identify reaction product types in a ```ReactionProduct```.\n",
    "\n",
    "A ```ParticleID``` instance provides the following information:\n",
    "- the symbol of the particle (```symbol```)\n",
    "- the particle number (```number```)\n",
    "- the particle element identifier (```element```)\n",
    "- the particle mass number (```mass```)\n",
    "- the particle level identifier (```level```)\n",
    "- the particle subshell identifier, if it is defined (```subshell```)\n",
    "\n",
    "The ```ParticleID``` also defines all possible comparison operators (```==```, ```!=```, ```<```, ```<=```, ```>```, ```>=```) using the particle number for the logical order of the particles (each particle has a unique internal particle number). It also provides a hash function so it can be used as a key in a Python dictionary.\n",
    "\n",
    "Instances of an ```ParticleID``` can be created in multiple ways. In the following sections, we will go over what this looks like for several sets of particles.\n",
    "\n",
    "### Fundamental particles\n",
    "\n",
    "In this context, fundamental particles are the basic particles we are interested in for transport applications: photons, electrons, neutrons and protons up to alpha particles. A ```ParticleID``` can be created for these fundamental particles using a string (which can either be the symbol, name or one of the alternative names for the particle). There is no number based constructor to create a ```ParticleID``` for one of these fundamental particles. The following table give an overview of the symbol and alternatives that can be used for these particles. The number given in the table represents the logical order of the particles that will be used when comparing ```ParticleID``` instances.\n",
    "\n",
    "| Name     | Symbol | Alternatives    |  Number  |\n",
    "| :----:   | :----: | :---- | :----: |\n",
    "| photon   |   g    | gamma, x-ray    |    0     |\n",
    "| electron |   e-   | beta-           |    1     |\n",
    "| positron |   e+   | beta+, e-\\_anti |    2     |\n",
    "| neutron  |   n    |                 |   10     |\n",
    "| proton   |   t    |                 | 1001     |\n",
    "| deuteron |   d    |                 | 1002     |\n",
    "| triton   |   t    |                 | 1003     |\n",
    "| helion   |   h    |                 | 2003     |\n",
    "| alpha    |   a    |                 | 2004     |\n",
    "\n",
    "In the following example all instances of ```ParticleID``` therefore point to a neutron."
   ]
  },
  {
   "cell_type": "code",
   "execution_count": 4,
   "id": "3dac93b6",
   "metadata": {},
   "outputs": [
    {
     "name": "stdout",
     "output_type": "stream",
     "text": [
      "particle: n\n",
      "particle: n\n"
     ]
    }
   ],
   "source": [
    "import dryad\n",
    "\n",
    "neutron1 = dryad.id.ParticleID( 'n' )\n",
    "neutron2 = dryad.id.ParticleID( 'neutron' )\n",
    "\n",
    "print( 'particle: {}'.format( neutron1 ) )\n",
    "print( 'particle: {}'.format( neutron2 ) )"
   ]
  },
  {
   "cell_type": "markdown",
   "id": "60b0cbc1",
   "metadata": {},
   "source": [
    "A number of static convenience functions have been added to ```ParticleID``` so that particle identifiers for these fundamental particles can be obtained without having to use the string based constructor (using the string based constructor causes lookup in a unordered map). As a result, these functions are more efficient - although most users will not notice the difference. For example:"
   ]
  },
  {
   "cell_type": "code",
   "execution_count": 5,
   "id": "1427b980",
   "metadata": {},
   "outputs": [],
   "source": [
    "neutron = dryad.id.ParticleID.neutron()\n",
    "neutron = dryad.id.ParticleID( 'neutron' )\n",
    "\n",
    "helion = dryad.id.ParticleID.helion()\n",
    "helion = dryad.id.ParticleID( 'helion' )"
   ]
  },
  {
   "cell_type": "markdown",
   "id": "5e3d0e60",
   "metadata": {},
   "source": [
    "### Elements"
   ]
  },
  {
   "cell_type": "markdown",
   "id": "cad16eb7",
   "metadata": {},
   "source": [
    "Particle identifiers for elements can be created using a string (which can be the element symbol, name or one of the alternative names of the element) or an elemental za number (basically z * 1000). For example:"
   ]
  },
  {
   "cell_type": "code",
   "execution_count": 6,
   "id": "673077b1",
   "metadata": {},
   "outputs": [
    {
     "name": "stdout",
     "output_type": "stream",
     "text": [
      "particle: H\n",
      "particle: H\n",
      "particle: H\n"
     ]
    }
   ],
   "source": [
    "import dryad\n",
    "\n",
    "element1 = dryad.id.ParticleID( 'H' )\n",
    "element2 = dryad.id.ParticleID( 'Hydrogen' )\n",
    "element3 = dryad.id.ParticleID( 1000 )\n",
    "\n",
    "print( 'particle: {}'.format( element1 ) )\n",
    "print( 'particle: {}'.format( element2 ) )\n",
    "print( 'particle: {}'.format( element3 ) )"
   ]
  },
  {
   "cell_type": "markdown",
   "id": "6c72012b",
   "metadata": {},
   "source": [
    "To impose logical order of elements, z * 1000000 is used as an internal number (e.g. 1000000 is elemental hydrogen).\n",
    "\n",
    "### Nuclides\n",
    "\n",
    "Particle identifiers for nuclides can be created using a string (of the form ```U235``` or ```U235_e0``` for ground states or ```U235_e10``` for an excited state) or using a za number and optional excited state number. Metastable state aliases are currently not supported. For example:"
   ]
  },
  {
   "cell_type": "code",
   "execution_count": 7,
   "id": "2c70c8cc",
   "metadata": {},
   "outputs": [
    {
     "name": "stdout",
     "output_type": "stream",
     "text": [
      "particle: H1\n",
      "particle: H1\n",
      "particle: H1\n",
      "particle: H1\n"
     ]
    }
   ],
   "source": [
    "import dryad\n",
    "\n",
    "nuclide1 = dryad.id.ParticleID( 'H1' )\n",
    "nuclide2 = dryad.id.ParticleID( 'H1_e0' )\n",
    "nuclide3 = dryad.id.ParticleID( 1001 )\n",
    "nuclide4 = dryad.id.ParticleID( 1001, 0 )\n",
    "\n",
    "print( 'particle: {}'.format( nuclide1 ) )\n",
    "print( 'particle: {}'.format( nuclide2 ) )\n",
    "print( 'particle: {}'.format( nuclide3 ) )\n",
    "print( 'particle: {}'.format( nuclide4 ) )"
   ]
  },
  {
   "cell_type": "markdown",
   "id": "c6d8cb0f",
   "metadata": {},
   "source": [
    "To impose logical order of nuclides, z * 1000000 + a * 1000 + l is used as an internal number (e.g. 1001000 is H1 and 1001010 is H1_e10).\n",
    "\n",
    "## Ions\n",
    "\n",
    "Particle identifiers for ions can be created using a string (of the form ```U{1s1/2}``` using the quantum representation of the subshell or ```U{K}``` using the subshell name) or using an elemental za number and subshell number. Non-elemental ions are currently not supported. For example:"
   ]
  },
  {
   "cell_type": "code",
   "execution_count": 8,
   "id": "de2c2e2f",
   "metadata": {},
   "outputs": [
    {
     "name": "stdout",
     "output_type": "stream",
     "text": [
      "particle: H{1s1/2}\n",
      "particle: H{1s1/2}\n",
      "particle: H{1s1/2}\n",
      "particle: H{1s1/2}\n"
     ]
    }
   ],
   "source": [
    "import dryad\n",
    "\n",
    "ion1 = dryad.id.ParticleID( 'H{1s1/2}' )\n",
    "ion2 = dryad.id.ParticleID( 'H{K}' )\n",
    "ion3 = dryad.id.ParticleID( 1000, 534 )\n",
    "ion4 = dryad.id.ParticleID( 1000, dryad.id.ElectronSubshellID.K )\n",
    "\n",
    "print( 'particle: {}'.format( ion1 ) )\n",
    "print( 'particle: {}'.format( ion2 ) )\n",
    "print( 'particle: {}'.format( ion3 ) )\n",
    "print( 'particle: {}'.format( ion4 ) )"
   ]
  },
  {
   "cell_type": "markdown",
   "id": "f2e9a9a0",
   "metadata": {},
   "source": [
    "To impose logical order of ions, z * 1000000 + s (with s the subshell number) is used as an internal number (e.g. 1000534 is H{1s1/2} and 1000536 is H{2p1/2}).\n",
    "\n",
    "## Performance notes\n",
    "\n",
    "The string based constructor for any of these identifiers is case sensitive (meaning that ```'neutron'``` is accepted while ```'NEUTRON'``` is not). This is a design choice that was made to avoid having to transform a string to lower case before looking up the string in the internal conversion dictionaries. While doing this a few times would not be visible to a user, this can lead to a reduction in performance when a large number of identifiers are created so we decided against it.\n",
    "\n",
    "The number based version of the identifier cosntructors are also more performant compared to the string based version of the identifier constructors. The conversion dictionaries used are unordered maps, so for looking up data we need to calculate a hash. This operation is slightly less performant for strings than it is for actual integers, and as a result the string based constructors will always be slightly less performant than the integer based constructors."
   ]
  },
  {
   "cell_type": "code",
   "execution_count": null,
   "id": "1f2b4197",
   "metadata": {},
   "outputs": [],
   "source": []
  }
 ],
 "metadata": {
  "kernelspec": {
   "display_name": "Python 3",
   "language": "python",
   "name": "python3"
  },
  "language_info": {
   "codemirror_mode": {
    "name": "ipython",
    "version": 3
   },
   "file_extension": ".py",
   "mimetype": "text/x-python",
   "name": "python",
   "nbconvert_exporter": "python",
   "pygments_lexer": "ipython3",
   "version": "3.8.8"
  }
 },
 "nbformat": 4,
 "nbformat_minor": 5
}
