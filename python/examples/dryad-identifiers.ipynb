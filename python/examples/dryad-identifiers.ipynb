{
 "cells": [
  {
   "cell_type": "markdown",
   "id": "12ce4db3",
   "metadata": {},
   "source": [
    "# Identifiers in dryad\n",
    "\n",
    "The ```dryad.id``` subpackage provides a number of identifiers that are used throughout the objects provided by dryad. This includes the ```ElectronSubshellID``` to identify specific electron subshells of an atom and the ```ParticleID``` to uniquely identify a particle, whether that particle is a fundamental particle (e.g. a photon or neutron), a nuclide (such as U235) or an ion (such as H{1s1/2}).\n",
    "\n",
    "## ElectronSubshellID\n",
    "\n",
    "An electron shell is the set of allowed states that share the same principal quantum number *n* that electrons may occupy. A subshell is the set of states defined by the azimuthal quantum number l within an electron shell. The value of *l* is in the range from 0 to *n* − 1 and these values are often denoted using letters (the s, p, d, and f labels).\n",
    "\n",
    "The ```ElectronSubshellID``` allows a user to identify individual subshells. This identifier is used in atomic relaxation data (which describes how X-rays and Auger electrons can be emitted by an ionised atom) and to identify ionised atoms. To identify these subshell, we often use names related to X-rays (for example the K, L1, L2 or L3 subshell), a quantum representation (for example the 1s1/2, 2s1/2, 2p1/2 or 2p3/2 subshell) or even an MT number in ENDF (for example the 534, 535, 536 or 537 subshell). An overview of the currently supported list of subshells with their name, quantum representation and ENDF number is given in the following table.\n",
    "\n",
    "| Name   | Quantum | ENDF | Name | Quantum | ENDF | Name | Quantum | ENDF |Name | Quantum | ENDF |\n",
    "| :----: | :----: | :----: | :----: | :----: | :----: | :----: | :----: | :----: | :----: | :----: | :----: |\n",
    "| K   | 1s1/2  | 534 | N4  | 4d3/2  | 546 | O9  | 5g9/2  | 558 | Q1  | 7s1/2  | 570 |\n",
    "| L1  | 2s1/2  | 535 | N5  | 4d5/2  | 547 | P1  | 6s1/2  | 559 | Q2  | 7p1/2  | 571 |\n",
    "| L2  | 2p1/2  | 536 | N6  | 4f5/2  | 548 | P2  | 6p1/2  | 560 | Q3  | 7p3/2  | 572 |\n",
    "| L3  | 2p3/2  | 537 | N7  | 4f7/2  | 549 | P3  | 6p3/2  | 561 | Q4  | 7d3/2  | 573 |\n",
    "| M1  | 3s1/2  | 538 | O1  | 5s1/2  | 550 | P4  | 6d3/2  | 562 | Q5  | 7d5/2  | 574 |\n",
    "| M2  | 3p1/2  | 539 | O2  | 5p1/2  | 551 | P5  | 6d5/2  | 563 | Q6  | 7f5/2  | 575 |\n",
    "| M3  | 3p3/2  | 540 | O3  | 5p3/2  | 552 | P6  | 6f5/2  | 564 | Q7  | 7f7/2  | 576 |\n",
    "| M4  | 3d3/2  | 541 | O4  | 5d3/2  | 553 | P7  | 6f7/2  | 565 | Q8  | 7g7/2  | 577 |\n",
    "| M5  | 3d5/2  | 542 | O5  | 5d5/2  | 554 | P8  | 6g7/2  | 566 | Q9  | 7g9/2  | 578 |\n",
    "| N1  | 4s1/2  | 543 | O6  | 5f5/2  | 555 | P9  | 6g9/2  | 567 | Q10 | 7h9/2  | 579 |\n",
    "| N2  | 4p1/2  | 544 | O7  | 5f7/2  | 556 | P10 | 6h9/2  | 568 | Q11 | 7h11/2 | 580 |\n",
    "| N3  | 4p3/2  | 545 | O8  | 5g7/2  | 557 | P11 | 6h11/2 | 569 |     |        |     |\n",
    "\n",
    "Note: the current ENDF manual only defines subshell MT numbers from 534 to 572. For practical purposes, we have extended this in dryad to 580.\n",
    "\n",
    "Instances of an ```ElectronSubshellID``` can be created using either a string (using the subshell name or quantum representation) or a number (using the ENDF MT number). In the following example all instances of ```ElectronSubshellID``` therefore point to the K subshell."
   ]
  },
  {
   "cell_type": "code",
   "execution_count": 1,
   "id": "83810645",
   "metadata": {},
   "outputs": [],
   "source": [
    "import dryad\n",
    "\n",
    "k_shell = dryad.id.ElectronSubshellID( 'K' )\n",
    "k_shell = dryad.id.ElectronSubshellID( '1s1/2' )\n",
    "k_shell = dryad.id.ElectronSubshellID( 534 )"
   ]
  },
  {
   "cell_type": "markdown",
   "id": "457202fe",
   "metadata": {},
   "source": [
    "Since the MT numbers are basically arbitrarily defined, the ```ElectronSubshellID``` also provides a set of predefined static constants that represent these MT numbers using the subshell name for user convenience. For example:"
   ]
  },
  {
   "cell_type": "code",
   "execution_count": 2,
   "id": "3a316c37",
   "metadata": {},
   "outputs": [],
   "source": [
    "k_shell = dryad.id.ElectronSubshellID( 534 )\n",
    "k_shell = dryad.id.ElectronSubshellID( dryad.id.ElectronSubshellID.K )\n",
    "\n",
    "l2_shell = dryad.id.ElectronSubshellID( 536 )\n",
    "l2_shell = dryad.id.ElectronSubshellID( dryad.id.ElectronSubshellID.L2 )"
   ]
  },
  {
   "cell_type": "markdown",
   "id": "4c049389",
   "metadata": {},
   "source": [
    "A ```ElectronSubshellID``` instance provides the following information:\n",
    "- the name the subshell (```name```)\n",
    "- the symbol or quantum representation of the subshell (```symbol```)\n",
    "- the subshell number (```number```)\n",
    "\n",
    "The ```ElectronSubshellID``` also defines all possible comparison operators (```==```, ```!=```, ```<```, ```<=```, ```>```, ```>=```) using the subshell number for the logical order of the shells."
   ]
  },
  {
   "cell_type": "markdown",
   "id": "50b9403d",
   "metadata": {},
   "source": [
    "## ParticleID\n",
    "\n",
    "### Fundamental particles"
   ]
  },
  {
   "cell_type": "code",
   "execution_count": null,
   "id": "ef3bc96b",
   "metadata": {},
   "outputs": [],
   "source": []
  },
  {
   "cell_type": "markdown",
   "id": "4f187894",
   "metadata": {},
   "source": [
    "### Nuclides"
   ]
  },
  {
   "cell_type": "code",
   "execution_count": null,
   "id": "535fb34c",
   "metadata": {},
   "outputs": [],
   "source": []
  },
  {
   "cell_type": "markdown",
   "id": "c83c32a2",
   "metadata": {},
   "source": [
    "### Ions"
   ]
  },
  {
   "cell_type": "code",
   "execution_count": null,
   "id": "9eb24f89",
   "metadata": {},
   "outputs": [],
   "source": []
  },
  {
   "cell_type": "code",
   "execution_count": null,
   "id": "4f99c902",
   "metadata": {},
   "outputs": [],
   "source": []
  }
 ],
 "metadata": {
  "kernelspec": {
   "display_name": "Python 3",
   "language": "python",
   "name": "python3"
  },
  "language_info": {
   "codemirror_mode": {
    "name": "ipython",
    "version": 3
   },
   "file_extension": ".py",
   "mimetype": "text/x-python",
   "name": "python",
   "nbconvert_exporter": "python",
   "pygments_lexer": "ipython3",
   "version": "3.8.8"
  }
 },
 "nbformat": 4,
 "nbformat_minor": 5
}
