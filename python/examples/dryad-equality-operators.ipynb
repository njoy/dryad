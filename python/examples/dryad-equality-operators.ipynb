{
 "cells": [
  {
   "cell_type": "markdown",
   "id": "cdea11a2",
   "metadata": {},
   "source": [
    "# Comparing dryad objects\n",
    "\n",
    "Some (because Amanda says so) dryad components can be compared with one another using the `==` and `!=` operators that are defined on them. All dryad objects containing tabulated data (cross sections, multiplicities, pdfs, etc.) and objects other than the `ProjectileTarget` and `Reaction` have these operators implemented on them. The comparison itself is a pure equality so no floating point comparison is performed when floating point numbers are involved. A comparison functionality using floating point comparison will be developed in the future.\n",
    "\n",
    "For example:"
   ]
  },
  {
   "cell_type": "code",
   "execution_count": null,
   "id": "21315adb",
   "metadata": {},
   "outputs": [],
   "source": [
    "import dryad\n",
    "\n",
    "pt_gnds = dryad.ProjectileTarget.from_gnds_file( 'resources/gnds/n-004_Be_009.endf.gnds.xml' )\n",
    "pt_endf = dryad.ProjectileTarget.from_endf_file( 'resources/endf/n-004_Be_009.endf' )\n",
    "\n",
    "elastic_gnds = pt_gnds.reaction('2')\n",
    "elastic_endf = pt_endf.reaction('2')\n",
    "\n",
    "n = dryad.id.ParticleID.neutron()\n",
    "\n",
    "print( 'Are the cross sections equal between the ENDF and GNDS version: ', elastic_gnds.cross_section == elastic_endf.cross_section )\n",
    "print( 'Are the neutron distribution data equal between the ENDF and GNDS version: ', elastic_gnds.product(n) == elastic_endf.product(n) )"
   ]
  },
  {
   "cell_type": "code",
   "execution_count": null,
   "id": "4f99c902",
   "metadata": {},
   "outputs": [],
   "source": []
  }
 ],
 "metadata": {
  "kernelspec": {
   "display_name": "Python 3 (ipykernel)",
   "language": "python",
   "name": "python3"
  },
  "language_info": {
   "codemirror_mode": {
    "name": "ipython",
    "version": 3
   },
   "file_extension": ".py",
   "mimetype": "text/x-python",
   "name": "python",
   "nbconvert_exporter": "python",
   "pygments_lexer": "ipython3",
   "version": "3.13.3"
  }
 },
 "nbformat": 4,
 "nbformat_minor": 5
}
