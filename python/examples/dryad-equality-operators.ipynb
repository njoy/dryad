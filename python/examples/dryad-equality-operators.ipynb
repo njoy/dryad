{
 "cells": [
  {
   "cell_type": "markdown",
   "id": "cdea11a2",
   "metadata": {},
   "source": [
    "# Comparing dryad objects\n",
    "\n",
    "All `dryad` components can be compared with one another using the `==` and `!=` operators that are defined on them. These were added in an effort to improve testing when loading the same data but stored in different formats. The comparison itself is a pure equality based on the equality of members in a `dryad` object. This means that the both the number and order of elements in a vector will impact this equality. In addition, no floating point comparison is performed when floating point numbers are involved. A comparison functionality employing floating point comparison will be developed in the future, which would be a useful evaluator tool.\n",
    "\n",
    "Note: because the GNDS format currently defines more products for each reaction compared to the same ENDF file, any comparison on the `ProjectileTarget` and `Reaction` level will most likely fail. We are working on correcting this in the future (by adding logic to add the missing products when reading from an ENDF file).\n",
    "\n",
    "For example, when comparing the elastic scattering data for Be9 we can see that the cross section data and distribution data for secondary neutrons is the same but if we compare the actual elastic scattering reaction data they are different since GNDS also has a Be9 residual product while ENDF does not:"
   ]
  },
  {
   "cell_type": "code",
   "execution_count": 1,
   "id": "21315adb",
   "metadata": {},
   "outputs": [],
   "source": [
    "import dryad\n",
    "\n",
    "pt_gnds = dryad.ProjectileTarget.from_gnds_file( 'resources/gnds/n-004_Be_009.endf.gnds.xml' )\n",
    "pt_endf = dryad.ProjectileTarget.from_endf_file( 'resources/endf/n-004_Be_009.endf' )\n",
    "\n",
    "elastic_gnds = pt_gnds.reaction('2')\n",
    "elastic_endf = pt_endf.reaction('2')"
   ]
  },
  {
   "cell_type": "code",
   "execution_count": 2,
   "id": "716a52aa",
   "metadata": {},
   "outputs": [
    {
     "name": "stdout",
     "output_type": "stream",
     "text": [
      "Are the elastic cross sections equal between the ENDF and GNDS version:  True\n",
      "Are the elastic neutron distribution data equal between the ENDF and GNDS version:  True\n",
      "Are the elastic scattering reaction data equal between the ENDF and GNDS version:  False\n",
      "Number products in GNDS:  2\n",
      "Number products in ENDF:  1\n",
      "Products in GNDS:  n Be9\n",
      "Products in ENDF:  n\n"
     ]
    }
   ],
   "source": [
    "n = dryad.id.ParticleID.neutron()\n",
    "\n",
    "print( 'Are the elastic cross sections equal between the ENDF and GNDS version: ', elastic_gnds.cross_section == elastic_endf.cross_section )\n",
    "print( 'Are the elastic neutron distribution data equal between the ENDF and GNDS version: ', elastic_gnds.product(n) == elastic_endf.product(n) )\n",
    "print( 'Are the elastic scattering reaction data equal between the ENDF and GNDS version: ', elastic_gnds == elastic_endf )\n",
    "\n",
    "print( 'Number products in GNDS: ', elastic_gnds.number_products() )\n",
    "print( 'Number products in ENDF: ', elastic_endf.number_products() )\n",
    "print( 'Products in GNDS: ', elastic_gnds.products[0].identifier, elastic_gnds.products[1].identifier )\n",
    "print( 'Products in ENDF: ', elastic_endf.products[0].identifier )"
   ]
  },
  {
   "cell_type": "code",
   "execution_count": null,
   "id": "1fe7757a",
   "metadata": {},
   "outputs": [],
   "source": []
  }
 ],
 "metadata": {
  "kernelspec": {
   "display_name": "base",
   "language": "python",
   "name": "python3"
  },
  "language_info": {
   "codemirror_mode": {
    "name": "ipython",
    "version": 3
   },
   "file_extension": ".py",
   "mimetype": "text/x-python",
   "name": "python",
   "nbconvert_exporter": "python",
   "pygments_lexer": "ipython3",
   "version": "3.8.8"
  }
 },
 "nbformat": 4,
 "nbformat_minor": 5
}
