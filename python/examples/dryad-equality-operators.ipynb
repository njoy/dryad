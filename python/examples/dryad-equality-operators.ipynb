{
 "cells": [
  {
   "cell_type": "markdown",
   "id": "cdea11a2",
   "metadata": {},
   "source": [
    "# Comparing dryad objects\n",
    "\n",
    "All `dryad` components can be compared with one another using the `==` and `!=` operators that are defined on them. These were added in an effort to improve testing when loading the same data but stored in different formats. The comparison itself is a pure equality based on the equality of members in a `dryad` object. This means that the both the number and order of elements in a vector will impact this equality. In addition, no floating point comparison is performed when floating point numbers are involved. A comparison functionality employing floating point comparison will be developed in the future, which would be a useful evaluator tool.\n",
    "\n",
    "Note: because the GNDS format currently defines more products for each reaction compared to the same ENDF file, any comparison on the `ProjectileTarget` and `Reaction` level will most likely fail. We are working on correcting this in the future, but this will require finalising the reaction identifiers first (since these would be used for sorting purposes).\n",
    "\n",
    "For example:"
   ]
  },
  {
   "cell_type": "code",
   "execution_count": 3,
   "id": "21315adb",
   "metadata": {},
   "outputs": [
    {
     "name": "stdout",
     "output_type": "stream",
     "text": [
      "Are the cross sections equal between the ENDF and GNDS version:  True\n",
      "Are the neutron distribution data equal between the ENDF and GNDS version:  True\n"
     ]
    }
   ],
   "source": [
    "import dryad\n",
    "\n",
    "pt_gnds = dryad.ProjectileTarget.from_gnds_file( 'resources/gnds/n-004_Be_009.endf.gnds.xml' )\n",
    "pt_endf = dryad.ProjectileTarget.from_endf_file( 'resources/endf/n-004_Be_009.endf' )\n",
    "\n",
    "elastic_gnds = pt_gnds.reaction('2')\n",
    "elastic_endf = pt_endf.reaction('2')\n",
    "\n",
    "n = dryad.id.ParticleID.neutron()\n",
    "\n",
    "print( 'Are the cross sections equal between the ENDF and GNDS version: ', elastic_gnds.cross_section == elastic_endf.cross_section )\n",
    "print( 'Are the neutron distribution data equal between the ENDF and GNDS version: ', elastic_gnds.product(n) == elastic_endf.product(n) )"
   ]
  },
  {
   "cell_type": "code",
   "execution_count": null,
   "id": "716a52aa",
   "metadata": {},
   "outputs": [],
   "source": []
  }
 ],
 "metadata": {
  "kernelspec": {
   "display_name": "base",
   "language": "python",
   "name": "python3"
  },
  "language_info": {
   "codemirror_mode": {
    "name": "ipython",
    "version": 3
   },
   "file_extension": ".py",
   "mimetype": "text/x-python",
   "name": "python",
   "nbconvert_exporter": "python",
   "pygments_lexer": "ipython3",
   "version": "3.8.8"
  }
 },
 "nbformat": 4,
 "nbformat_minor": 5
}
