{
 "cells": [
  {
   "cell_type": "markdown",
   "id": "5341fdea",
   "metadata": {},
   "source": [
    "# Transition data\n",
    "\n",
    "When an atom is ionised (by a photon, electron or other particle type), a vacancy in one of the atom's electron subshells is created. These vacancies can be filled by the transition of an electron from a higher subshell (which will have a lower binding energy than the subshell with the vacancy). This transition can either be radiative or non-radiative.\n",
    "\n",
    "In a radiative transition, an electron from another shell fills a vacancy in the current shell while emitting a photon (this electron is often referred to as an X-ray). The energy $E$ of the emitted photon is equal to the difference between the binding energy $E_v$ of the subshell with the vacancy and the binding energy $E_o$ subshell from which the electron filling the vacancy originated from:\n",
    "$$\n",
    "  E = E_v - E_o\n",
    "$$\n",
    "\n",
    "In a non-radiative transition, an electron from another shell fills a vacancy in the current shell while another electron is emitted (this electron is often referred to as an Auger electron). The energy $E$ of the emitted electron is equal to the binding energy $E_v$ of the subshell with the vacancy minus the binding energy $E_o$ of the subshell from which the electron filling the vacancy originated from and the binding energy $E_e$  of the subshell from which the emitted electron came from:\n",
    "$$\n",
    "  E = E_v - E_o - E_e\n",
    "$$\n",
    "\n",
    "The `dryad.atomic` subpackage defines two objects to store the data for these transition types: `RadiativeTransitionData` and `NonRadiativeTransitionData`.\n",
    "\n",
    "## `RadiativeTransitionData`\n",
    "\n",
    "### Properties\n",
    "\n",
    "`RadiativeTransitionData` contains the data for a single radiative transition:\n",
    "- the transition type (`type`), which in this case is radiative (`TransitionType.Radiative`)\n",
    "- the identifier of the subshell from which the electron filling the vacancy originated (`originating_shell`)\n",
    "- the transition probability (`probability`)\n",
    "- the optional transition energy (`energy`), the energy of the emitted photon\n",
    "\n",
    "The `type` and `originating_shell` properties are read-only while `probability` and `energy` are read and write properties.\n",
    "\n",
    "Since the transition energy can be calculated using the binding energy of the current subshell and the originating subshell (see the formulas given above), the transition energy is considered a redundant quantity. As such, atomic relaxation data read from a GNDS file does not populate this quantity. These can be calculated by calling the `calculate_transition_energies()` function on an `AtomicRelaxation` instance or a `ElectronSubshellConfiguration` instance.\n",
    "\n",
    "### Construction\n",
    "\n",
    "To create an instance of `RadiativeTransitionData` the following arguments are required:\n",
    "- `originating_shell`: the identifier of the subshell from which the vacancy filling electron originated\n",
    "- `probability`: the probability of the transition\n",
    "\n",
    "and the following arguments are optional:\n",
    "- `energy`: the optional transition energy (default is None)\n",
    "\n",
    "### Example\n",
    "\n",
    "In this example, we are creating an instance of `RadiativeTransitionData` without a transition energy and modifying the instance after construction by changing the probability and setting a transition energy."
   ]
  },
  {
   "cell_type": "code",
   "execution_count": 1,
   "id": "27f45d8c",
   "metadata": {},
   "outputs": [
    {
     "name": "stdout",
     "output_type": "stream",
     "text": [
      "Constructed transition data:\n",
      "  Type                  : TransitionType.Radiative\n",
      "  Originating shell     : 2p1/2\n",
      "  Transition probability: 0.195\n",
      "  Transition energy     : None\n",
      "Modified transition data:\n",
      "  Type                  : TransitionType.Radiative\n",
      "  Originating shell     : 2p1/2\n",
      "  Transition probability: 0.178644\n",
      "  Transition energy     : 478.82\n"
     ]
    }
   ],
   "source": [
    "from dryad.atomic import RadiativeTransitionData\n",
    "from dryad.id import ElectronSubshellID\n",
    "\n",
    "def print_information( transition ) :\n",
    "\n",
    "    print( '  Type                  : {}'.format( transition.type ) )\n",
    "    print( '  Originating shell     : {}'.format( transition.originating_shell ) )\n",
    "    print( '  Transition probability: {}'.format( transition.probability ) )\n",
    "    print( '  Transition energy     : {}'.format( transition.energy ) )\n",
    "\n",
    "transition = RadiativeTransitionData( originating_shell = ElectronSubshellID( 'L2' ), probability = 0.195 )\n",
    "\n",
    "print( 'Constructed transition data:' )\n",
    "print_information( transition )\n",
    "\n",
    "transition.energy = 478.82\n",
    "transition.probability = 0.178644\n",
    "\n",
    "print( 'Modified transition data:' )\n",
    "print_information( transition )\n"
   ]
  },
  {
   "cell_type": "markdown",
   "id": "38ebd620",
   "metadata": {},
   "source": [
    "## `NonRadiativeTransitionData`\n",
    "\n",
    "### Properties\n",
    "\n",
    "`NonRadiativeTransitionData` contains the data for a single radiative transition:\n",
    "- the transition type (`type`), which in this case is non-radiative (`TransitionType.NonRadiative`)\n",
    "- the identifier of the subshell from which the electron filling the vacancy originated (`originating_shell`)\n",
    "- the identifier of the subshell from which the emitted electron originated (`emitting_shell`)\n",
    "- the transition probability (`probability`)\n",
    "- the optional transition energy (`energy`), the energy of the emitted electron\n",
    "\n",
    "The `type`, `originating_shell` and `emitting_shell` properties are read-only while `probability` and `energy` are read and write properties.\n",
    "\n",
    "Since the transition energy can be calculated using the binding energy of the current subshell (see the formulas given above), the originating and emitting subshell, the transition energy is considered a redundant quantity. As such, atomic relaxation data read from an ENDF file does not populate this quantity. These can be calculated by calling the `calculate_transition_energies()` function on an `AtomicRelaxation` instance or a `ElectronSubshellConfiguration` instance.\n",
    "\n",
    "### Construction\n",
    "\n",
    "To create an instance of `NonRadiativeTransitionData` the following arguments are required:\n",
    "- `originating_shell`: the identifier of the subshell from which the vacancy filling electron originated\n",
    "- `emitting_shell`: the identifier of the subshell from which the emitted electron originated\n",
    "- `probability`: the probability of the transition\n",
    "\n",
    "and the following arguments are optional:\n",
    "- `energy`: the optional transition energy (default is None)\n",
    "\n",
    "### Example\n",
    "\n",
    "In this example, we are creating an instance of `NonRadiativeTransitionData` with a transition energy and modifying the instance after construction by changing the probability and removing the transition energy."
   ]
  },
  {
   "cell_type": "code",
   "execution_count": 2,
   "id": "c8eb68ac",
   "metadata": {},
   "outputs": [
    {
     "name": "stdout",
     "output_type": "stream",
     "text": [
      "Constructed transition data:\n",
      "  Type                  : TransitionType.NonRadiative\n",
      "  Originating shell     : 2p1/2\n",
      "  Emitting shell        : 2s1/2\n",
      "  Transition probability: 0.195\n",
      "  Transition energy     : 478.82\n",
      "Modified transition data:\n",
      "  Type                  : TransitionType.NonRadiative\n",
      "  Originating shell     : 2p1/2\n",
      "  Emitting shell        : 2s1/2\n",
      "  Transition probability: 0.178644\n",
      "  Transition energy     : None\n"
     ]
    }
   ],
   "source": [
    "from dryad.atomic import NonRadiativeTransitionData\n",
    "from dryad.id import ElectronSubshellID\n",
    "\n",
    "def print_information( transition ) :\n",
    "\n",
    "    print( '  Type                  : {}'.format( transition.type ) )\n",
    "    print( '  Originating shell     : {}'.format( transition.originating_shell ) )\n",
    "    print( '  Emitting shell        : {}'.format( transition.emitting_shell ) )\n",
    "    print( '  Transition probability: {}'.format( transition.probability ) )\n",
    "    print( '  Transition energy     : {}'.format( transition.energy ) )\n",
    "\n",
    "transition = NonRadiativeTransitionData( originating_shell = ElectronSubshellID( 'L2' ),\n",
    "                                         emitting_shell = ElectronSubshellID( 'L1' ),\n",
    "                                         probability = 0.195,\n",
    "                                         energy = 478.82 )\n",
    "\n",
    "print( 'Constructed transition data:' )\n",
    "print_information( transition )\n",
    "\n",
    "transition.energy = None\n",
    "transition.probability = 0.178644\n",
    "\n",
    "print( 'Modified transition data:' )\n",
    "print_information( transition )\n"
   ]
  },
  {
   "cell_type": "code",
   "execution_count": null,
   "id": "56220b14",
   "metadata": {},
   "outputs": [],
   "source": []
  }
 ],
 "metadata": {
  "kernelspec": {
   "display_name": "Python 3",
   "language": "python",
   "name": "python3"
  },
  "language_info": {
   "codemirror_mode": {
    "name": "ipython",
    "version": 3
   },
   "file_extension": ".py",
   "mimetype": "text/x-python",
   "name": "python",
   "nbconvert_exporter": "python",
   "pygments_lexer": "ipython3",
   "version": "3.8.8"
  }
 },
 "nbformat": 4,
 "nbformat_minor": 5
}
