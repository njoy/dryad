{
 "cells": [
  {
   "cell_type": "markdown",
   "id": "3b70c61b",
   "metadata": {},
   "source": [
    "# Atomic relaxation data\n",
    "\n",
    "## Interface overview\n",
    "\n",
    "[Transition data](atomic-relaxation-data/1-transition-data.ipynb)\n",
    "\n",
    "[Electron subshell configuration data](atomic-relaxation-data/2-subshell-configuration-data.ipynb)\n"
   ]
  },
  {
   "cell_type": "code",
   "execution_count": null,
   "id": "10589b95",
   "metadata": {},
   "outputs": [],
   "source": []
  }
 ],
 "metadata": {
  "kernelspec": {
   "display_name": "Python 3",
   "language": "python",
   "name": "python3"
  },
  "language_info": {
   "codemirror_mode": {
    "name": "ipython",
    "version": 3
   },
   "file_extension": ".py",
   "mimetype": "text/x-python",
   "name": "python",
   "nbconvert_exporter": "python",
   "pygments_lexer": "ipython3",
   "version": "3.8.8"
  }
 },
 "nbformat": 4,
 "nbformat_minor": 5
}
